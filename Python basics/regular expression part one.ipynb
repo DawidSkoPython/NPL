{
 "cells": [
  {
   "cell_type": "code",
   "execution_count": 2,
   "id": "published-scanning",
   "metadata": {},
   "outputs": [
    {
     "data": {
      "text/plain": [
       "'\\\\d{3}'"
      ]
     },
     "execution_count": 2,
     "metadata": {},
     "output_type": "execute_result"
    }
   ],
   "source": [
    "r'\\d{3}'"
   ]
  },
  {
   "cell_type": "code",
   "execution_count": 3,
   "id": "caring-offering",
   "metadata": {},
   "outputs": [],
   "source": [
    "text = 'The phone number of the agent is 408-555-1234. Call soon!'"
   ]
  },
  {
   "cell_type": "code",
   "execution_count": 4,
   "id": "focused-minority",
   "metadata": {},
   "outputs": [
    {
     "data": {
      "text/plain": [
       "True"
      ]
     },
     "execution_count": 4,
     "metadata": {},
     "output_type": "execute_result"
    }
   ],
   "source": [
    "'408-555-1234' in text"
   ]
  },
  {
   "cell_type": "code",
   "execution_count": 6,
   "id": "emerging-device",
   "metadata": {},
   "outputs": [],
   "source": [
    "import re"
   ]
  },
  {
   "cell_type": "code",
   "execution_count": 7,
   "id": "loaded-pressing",
   "metadata": {},
   "outputs": [],
   "source": [
    "pattern =\"phone\""
   ]
  },
  {
   "cell_type": "code",
   "execution_count": 11,
   "id": "vocational-spice",
   "metadata": {},
   "outputs": [],
   "source": [
    "my_match = re.search(pattern, text) # span=(4, 9) and end with index 9"
   ]
  },
  {
   "cell_type": "code",
   "execution_count": 12,
   "id": "blind-hybrid",
   "metadata": {},
   "outputs": [
    {
     "data": {
      "text/plain": [
       "(4, 9)"
      ]
     },
     "execution_count": 12,
     "metadata": {},
     "output_type": "execute_result"
    }
   ],
   "source": [
    "my_match.span()"
   ]
  },
  {
   "cell_type": "code",
   "execution_count": 13,
   "id": "composed-hollywood",
   "metadata": {},
   "outputs": [
    {
     "data": {
      "text/plain": [
       "4"
      ]
     },
     "execution_count": 13,
     "metadata": {},
     "output_type": "execute_result"
    }
   ],
   "source": [
    "my_match.start()"
   ]
  },
  {
   "cell_type": "code",
   "execution_count": 15,
   "id": "confidential-twelve",
   "metadata": {},
   "outputs": [
    {
     "data": {
      "text/plain": [
       "9"
      ]
     },
     "execution_count": 15,
     "metadata": {},
     "output_type": "execute_result"
    }
   ],
   "source": [
    "my_match.end()"
   ]
  },
  {
   "cell_type": "code",
   "execution_count": 17,
   "id": "empirical-timeline",
   "metadata": {},
   "outputs": [],
   "source": [
    "text = 'My phone is new phone'\n",
    "match = re.search(pattern, text)"
   ]
  },
  {
   "cell_type": "code",
   "execution_count": 18,
   "id": "physical-examination",
   "metadata": {},
   "outputs": [
    {
     "data": {
      "text/plain": [
       "(3, 8)"
      ]
     },
     "execution_count": 18,
     "metadata": {},
     "output_type": "execute_result"
    }
   ],
   "source": [
    "match.span()"
   ]
  },
  {
   "cell_type": "code",
   "execution_count": 20,
   "id": "pressed-ebony",
   "metadata": {},
   "outputs": [],
   "source": [
    "all_matches = re.findall(\"phone\", text)"
   ]
  },
  {
   "cell_type": "code",
   "execution_count": 21,
   "id": "fixed-trader",
   "metadata": {},
   "outputs": [
    {
     "data": {
      "text/plain": [
       "2"
      ]
     },
     "execution_count": 21,
     "metadata": {},
     "output_type": "execute_result"
    }
   ],
   "source": [
    "len(all_matches)"
   ]
  },
  {
   "cell_type": "code",
   "execution_count": 23,
   "id": "quick-consortium",
   "metadata": {},
   "outputs": [
    {
     "name": "stdout",
     "output_type": "stream",
     "text": [
      "(3, 8)\n",
      "(16, 21)\n"
     ]
    }
   ],
   "source": [
    "for match in re.finditer(\"phone\", text):\n",
    "    print(match.span())"
   ]
  },
  {
   "cell_type": "code",
   "execution_count": 35,
   "id": "gothic-israeli",
   "metadata": {},
   "outputs": [],
   "source": [
    "text = 'The phone number of the agent is 408-555-1234. Call soon! 408-555-1534'"
   ]
  },
  {
   "cell_type": "code",
   "execution_count": 36,
   "id": "front-thriller",
   "metadata": {},
   "outputs": [],
   "source": [
    "pattern =r'\\d\\d\\d-\\d\\d\\d-\\d\\d\\d\\d'"
   ]
  },
  {
   "cell_type": "code",
   "execution_count": 39,
   "id": "ceramic-bandwidth",
   "metadata": {},
   "outputs": [],
   "source": [
    "phone_number = re.findall(pattern, text)"
   ]
  },
  {
   "cell_type": "code",
   "execution_count": 41,
   "id": "diverse-developer",
   "metadata": {},
   "outputs": [
    {
     "data": {
      "text/plain": [
       "['408-555-1234', '408-555-1534']"
      ]
     },
     "execution_count": 41,
     "metadata": {},
     "output_type": "execute_result"
    }
   ],
   "source": [
    "phone_number"
   ]
  },
  {
   "cell_type": "code",
   "execution_count": 59,
   "id": "coordinate-lemon",
   "metadata": {},
   "outputs": [],
   "source": [
    "pattern = r'(\\d{3})-(\\d{3})-(\\d{4})'"
   ]
  },
  {
   "cell_type": "code",
   "execution_count": 60,
   "id": "persistent-plate",
   "metadata": {},
   "outputs": [],
   "source": [
    "phone_number = re.search(pattern, text)"
   ]
  },
  {
   "cell_type": "code",
   "execution_count": 61,
   "id": "thousand-senegal",
   "metadata": {},
   "outputs": [
    {
     "data": {
      "text/plain": [
       "<re.Match object; span=(33, 45), match='408-555-1234'>"
      ]
     },
     "execution_count": 61,
     "metadata": {},
     "output_type": "execute_result"
    }
   ],
   "source": [
    "phone_number"
   ]
  },
  {
   "cell_type": "code",
   "execution_count": 62,
   "id": "raising-breath",
   "metadata": {},
   "outputs": [
    {
     "data": {
      "text/plain": [
       "'408-'"
      ]
     },
     "execution_count": 62,
     "metadata": {},
     "output_type": "execute_result"
    }
   ],
   "source": [
    "phone_number.group(1)"
   ]
  },
  {
   "cell_type": "code",
   "execution_count": 64,
   "id": "falling-armor",
   "metadata": {},
   "outputs": [
    {
     "data": {
      "text/plain": [
       "<re.Match object; span=(5, 8), match='man'>"
      ]
     },
     "execution_count": 64,
     "metadata": {},
     "output_type": "execute_result"
    }
   ],
   "source": [
    "re.search(r\"man|women\", \"This man women was here \")"
   ]
  },
  {
   "cell_type": "code",
   "execution_count": 68,
   "id": "catholic-there",
   "metadata": {},
   "outputs": [
    {
     "data": {
      "text/plain": [
       "['cat', 'hat', 'sat', 'lat']"
      ]
     },
     "execution_count": 68,
     "metadata": {},
     "output_type": "execute_result"
    }
   ],
   "source": [
    "re.findall(r\".at\", \"The cat in the hat sat splat\")"
   ]
  },
  {
   "cell_type": "code",
   "execution_count": 70,
   "id": "criminal-copyright",
   "metadata": {},
   "outputs": [
    {
     "data": {
      "text/plain": [
       "'^'"
      ]
     },
     "execution_count": 70,
     "metadata": {},
     "output_type": "execute_result"
    }
   ],
   "source": [
    "\"^\" # mean start wiht"
   ]
  },
  {
   "cell_type": "code",
   "execution_count": 71,
   "id": "outstanding-dance",
   "metadata": {},
   "outputs": [
    {
     "data": {
      "text/plain": [
       "'$'"
      ]
     },
     "execution_count": 71,
     "metadata": {},
     "output_type": "execute_result"
    }
   ],
   "source": [
    "'$' # means end with"
   ]
  },
  {
   "cell_type": "code",
   "execution_count": 72,
   "id": "retained-shield",
   "metadata": {},
   "outputs": [
    {
     "data": {
      "text/plain": [
       "['1']"
      ]
     },
     "execution_count": 72,
     "metadata": {},
     "output_type": "execute_result"
    }
   ],
   "source": [
    "re.findall(r\"^\\d\", '1 is the loneliest number')"
   ]
  },
  {
   "cell_type": "code",
   "execution_count": 73,
   "id": "demographic-halifax",
   "metadata": {},
   "outputs": [],
   "source": [
    "phrase = \"there are 3 numbers 34 inside 5 this sentence\""
   ]
  },
  {
   "cell_type": "code",
   "execution_count": 75,
   "id": "accredited-genre",
   "metadata": {},
   "outputs": [
    {
     "data": {
      "text/plain": [
       "['there are ', ' numbers ', ' inside ', ' this sentence']"
      ]
     },
     "execution_count": 75,
     "metadata": {},
     "output_type": "execute_result"
    }
   ],
   "source": [
    "re.findall(r\"[^\\d]+\", phrase) # means exclude+"
   ]
  },
  {
   "cell_type": "code",
   "execution_count": 76,
   "id": "patient-impossible",
   "metadata": {},
   "outputs": [],
   "source": [
    "test_phrase = \"this is a string! but it has punctuation. how to remove it?\""
   ]
  },
  {
   "cell_type": "code",
   "execution_count": 78,
   "id": "composed-celebration",
   "metadata": {},
   "outputs": [],
   "source": [
    "mylist=re.findall(r\"[^!.? ]+\", test_phrase)"
   ]
  },
  {
   "cell_type": "code",
   "execution_count": 79,
   "id": "infinite-requirement",
   "metadata": {},
   "outputs": [
    {
     "data": {
      "text/plain": [
       "'this is a string but it has punctuation how to remove it'"
      ]
     },
     "execution_count": 79,
     "metadata": {},
     "output_type": "execute_result"
    }
   ],
   "source": [
    "' '.join(mylist)"
   ]
  },
  {
   "cell_type": "code",
   "execution_count": 82,
   "id": "center-association",
   "metadata": {},
   "outputs": [],
   "source": [
    "text = \"Only find the hyphen-words. Were are the long-ish dash words?\""
   ]
  },
  {
   "cell_type": "code",
   "execution_count": 83,
   "id": "regional-internship",
   "metadata": {},
   "outputs": [
    {
     "data": {
      "text/plain": [
       "['hyphen-words', 'long-ish']"
      ]
     },
     "execution_count": 83,
     "metadata": {},
     "output_type": "execute_result"
    }
   ],
   "source": [
    "re.findall(r'[\\w]+-[\\w]+', text)"
   ]
  },
  {
   "cell_type": "code",
   "execution_count": null,
   "id": "manufactured-position",
   "metadata": {},
   "outputs": [],
   "source": []
  }
 ],
 "metadata": {
  "kernelspec": {
   "display_name": "Python 3",
   "language": "python",
   "name": "python3"
  },
  "language_info": {
   "codemirror_mode": {
    "name": "ipython",
    "version": 3
   },
   "file_extension": ".py",
   "mimetype": "text/x-python",
   "name": "python",
   "nbconvert_exporter": "python",
   "pygments_lexer": "ipython3",
   "version": "3.7.4"
  }
 },
 "nbformat": 4,
 "nbformat_minor": 5
}
